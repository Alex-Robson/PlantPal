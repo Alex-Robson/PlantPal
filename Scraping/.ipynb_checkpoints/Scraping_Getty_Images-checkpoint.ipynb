{
 "cells": [
  {
   "cell_type": "code",
   "execution_count": 1,
   "metadata": {},
   "outputs": [],
   "source": [
    "from simple_image_download import simple_image_download as simp\n",
    "import pandas as pd\n",
    "import os\n",
    "\n",
    "response = simp.simple_image_download"
   ]
  },
  {
   "cell_type": "code",
   "execution_count": 2,
   "metadata": {},
   "outputs": [],
   "source": [
    "plants_df = pd.read_csv('Common_House_Plants.csv', names=['name','type'], skiprows=1,)"
   ]
  },
  {
   "cell_type": "code",
   "execution_count": null,
   "metadata": {},
   "outputs": [
    {
     "name": "stderr",
     "output_type": "stream",
     "text": [
      "[========================================================================] 100%\n",
      "[=================================================                       ]  69%\r"
     ]
    }
   ],
   "source": [
    "for plant in plants_df.name.values:\n",
    "    response().download(f'{plant} plant', 200)"
   ]
  },
  {
   "cell_type": "code",
   "execution_count": null,
   "metadata": {},
   "outputs": [],
   "source": [
    "for plant in plants_df.name.values:    \n",
    "    os.system(f'mv -r ../simple_images/{plant}_plant/ ../simple_images/{plant}')"
   ]
  }
 ],
 "metadata": {
  "kernelspec": {
   "display_name": "PlantPal",
   "language": "python",
   "name": "plantpal"
  },
  "language_info": {
   "codemirror_mode": {
    "name": "ipython",
    "version": 3
   },
   "file_extension": ".py",
   "mimetype": "text/x-python",
   "name": "python",
   "nbconvert_exporter": "python",
   "pygments_lexer": "ipython3",
   "version": "3.8.5"
  },
  "toc": {
   "nav_menu": {
    "height": "12px",
    "width": "252px"
   },
   "navigate_menu": true,
   "number_sections": true,
   "sideBar": true,
   "threshold": 4,
   "toc_cell": false,
   "toc_section_display": "block",
   "toc_window_display": false
  }
 },
 "nbformat": 4,
 "nbformat_minor": 2
}
