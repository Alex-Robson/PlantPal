{
 "cells": [
  {
   "cell_type": "markdown",
   "metadata": {},
   "source": [
    "# PlantPal\n",
    "\n",
    "\n",
    "**Method**\n",
    "\n",
    "In this notebook, I train a convolutional neural network to identify houseplants\n",
    "\n",
    "In particular, I use transfer learning with fine-tuning to achieve high accuracy while minimizing the amount of compute required to train the classifier."
   ]
  },
  {
   "cell_type": "code",
   "execution_count": 4,
   "metadata": {
    "_cell_guid": "b1076dfc-b9ad-4769-8c92-a6c4dae69d19",
    "_uuid": "8f2839f25d086af736a60e9eeb907d3b93b6e0e5"
   },
   "outputs": [],
   "source": [
    "import os\n",
    "from pathlib import Path\n",
    "import numpy as np\n",
    "import pandas as pd\n",
    "import matplotlib.pyplot as plt"
   ]
  },
  {
   "cell_type": "markdown",
   "metadata": {},
   "source": [
    "# Training Labels\n",
    "\n",
    "All labels for the images are encoded into the directory structure of this dataset. Just extract it into a pandas DataFrame:"
   ]
  },
  {
   "cell_type": "code",
   "execution_count": 42,
   "metadata": {},
   "outputs": [
    {
     "data": {
      "text/html": [
       "<div>\n",
       "<style scoped>\n",
       "    .dataframe tbody tr th:only-of-type {\n",
       "        vertical-align: middle;\n",
       "    }\n",
       "\n",
       "    .dataframe tbody tr th {\n",
       "        vertical-align: top;\n",
       "    }\n",
       "\n",
       "    .dataframe thead th {\n",
       "        text-align: right;\n",
       "    }\n",
       "</style>\n",
       "<table border=\"1\" class=\"dataframe\">\n",
       "  <thead>\n",
       "    <tr style=\"text-align: right;\">\n",
       "      <th></th>\n",
       "      <th>path</th>\n",
       "      <th>plant</th>\n",
       "      <th>data_split</th>\n",
       "    </tr>\n",
       "  </thead>\n",
       "  <tbody>\n",
       "    <tr>\n",
       "      <th>0</th>\n",
       "      <td>../data/data/test/Aloe_Vera/Aloe_Vera_51.jpeg</td>\n",
       "      <td>Aloe_Vera</td>\n",
       "      <td>test</td>\n",
       "    </tr>\n",
       "    <tr>\n",
       "      <th>1</th>\n",
       "      <td>../data/data/test/Aloe_Vera/Aloe_Vera_113.jpeg</td>\n",
       "      <td>Aloe_Vera</td>\n",
       "      <td>test</td>\n",
       "    </tr>\n",
       "    <tr>\n",
       "      <th>2</th>\n",
       "      <td>../data/data/test/Aloe_Vera/Aloe_Vera_172.jpeg</td>\n",
       "      <td>Aloe_Vera</td>\n",
       "      <td>test</td>\n",
       "    </tr>\n",
       "    <tr>\n",
       "      <th>3</th>\n",
       "      <td>../data/data/test/Aloe_Vera/Aloe_Vera_67.jpeg</td>\n",
       "      <td>Aloe_Vera</td>\n",
       "      <td>test</td>\n",
       "    </tr>\n",
       "    <tr>\n",
       "      <th>4</th>\n",
       "      <td>../data/data/test/Aloe_Vera/Aloe_Vera_66.jpeg</td>\n",
       "      <td>Aloe_Vera</td>\n",
       "      <td>test</td>\n",
       "    </tr>\n",
       "  </tbody>\n",
       "</table>\n",
       "</div>"
      ],
      "text/plain": [
       "                                             path      plant data_split\n",
       "0   ../data/data/test/Aloe_Vera/Aloe_Vera_51.jpeg  Aloe_Vera       test\n",
       "1  ../data/data/test/Aloe_Vera/Aloe_Vera_113.jpeg  Aloe_Vera       test\n",
       "2  ../data/data/test/Aloe_Vera/Aloe_Vera_172.jpeg  Aloe_Vera       test\n",
       "3   ../data/data/test/Aloe_Vera/Aloe_Vera_67.jpeg  Aloe_Vera       test\n",
       "4   ../data/data/test/Aloe_Vera/Aloe_Vera_66.jpeg  Aloe_Vera       test"
      ]
     },
     "execution_count": 42,
     "metadata": {},
     "output_type": "execute_result"
    }
   ],
   "source": [
    "input_path = '../data/data/'\n",
    "\n",
    "image_df = pd.DataFrame({'path': list(Path(input_path).glob('**/*.jp*g'))})\n",
    "\n",
    "image_df['plant'] = image_df['path'].map(lambda x: x.parent.stem)\n",
    "image_df['data_split'] = image_df['path'].map(lambda x: x.parent.parent.stem)\n",
    "image_df['path'] = image_df['path'].map(lambda x: str(x)) # convert the path back to a string\n",
    "\n",
    "image_df.head()"
   ]
  },
  {
   "cell_type": "markdown",
   "metadata": {},
   "source": [
    "# Training Images\n",
    "\n",
    "First, inspect the images:"
   ]
  },
  {
   "cell_type": "code",
   "execution_count": 43,
   "metadata": {},
   "outputs": [],
   "source": [
    "import cv2\n",
    "\n",
    "# read it in unchanged, to make sure we aren't losing any information\n",
    "img = cv2.imread(image_df['path'][0], cv2.IMREAD_UNCHANGED)\n",
    "np.shape(img)\n",
    "\n",
    "# get the train-validation-test splits\n",
    "image_df_train = image_df[image_df['data_split']=='train'].copy()\n",
    "image_df_val = image_df[image_df['data_split']=='val'].copy()\n",
    "image_df_test = image_df[image_df['data_split']=='test'].copy()"
   ]
  },
  {
   "cell_type": "markdown",
   "metadata": {},
   "source": [
    "# Transfer Learning\n",
    "\n",
    "In general, there are two types of transfer learning in the context of deep learning:\n",
    "\n",
    "* via feature extraction\n",
    "    * treating the network as an arbitrary feature extractor\n",
    "    * essentially 'chop off' the network at our pre-specified layer (typically prior to the fully-connected layers when actual classification predictions are made), then propagate some input through this 'shortened' network, get the output array, flatten it, and use that as the feature vector for the original input in another classification algorithm\n",
    "    * the two most common machine learning models for transfer learning via feature extraction are logistic regression and linear SVM:\n",
    "        * CNN's are non-linear models capable of learning non-linear features — we are assuming that the features learned by the CNN are already robust and discriminative\n",
    "        * feature vectors tend to be very large and have high dimensionality - we therefore need a fast model that can be trained on top of the features\n",
    "        * linear models tend to be very fast to train\n",
    "* via fine-tuning\n",
    "    * removing the fully-connected layers of an existing network, placing a new set of fully-connected layers on top of the network, and then fine-tuning these weights (and optionally previous layers) to recognize the new object classes\n",
    "    * this technique is usually recommended when the training dataset is large and very similar to the original dataset that the pre-trained model was trained on\n",
    "\n",
    "In this notebook, I will use the fine-tuning method, but an example of using the feature extraction method can be found [here](https://www.kaggle.com/kmader/damage-classification-with-resnet-features)."
   ]
  },
  {
   "cell_type": "code",
   "execution_count": 44,
   "metadata": {},
   "outputs": [
    {
     "data": {
      "text/plain": [
       "'2.0.0'"
      ]
     },
     "execution_count": 44,
     "metadata": {},
     "output_type": "execute_result"
    }
   ],
   "source": [
    "import tensorflow as tf\n",
    "tf.__version__"
   ]
  },
  {
   "cell_type": "markdown",
   "metadata": {},
   "source": [
    "# Image Preprocessing\n",
    "\n",
    "We could use `tf.keras.preprocessing` to load the images, but it has 3 downsides:\n",
    "\n",
    "1. it's slow\n",
    "2. it lacks fine-grained control\n",
    "3. it's not well integrated with the rest of TensorFlow\n",
    "\n",
    "Alternatively, we could use `tf.data.Dataset`. From the documentation:\n",
    "\n",
    "> The `tf.data` API enables you to build complex input pipelines from simple, reusable pieces. For example, the pipeline for an image model might aggregate data from files in a distributed file system, apply random perturbations to each image, and merge randomly selected images into a batch for training.\n",
    "\n",
    "This API allows the user to only call the data (and apply transformations, etc.) when the data is actually needed, instead of keeping all the images in RAM indefinitely.\n",
    "\n",
    "I'll use the `tf.data.Dataset` API."
   ]
  },
  {
   "cell_type": "markdown",
   "metadata": {},
   "source": [
    "Get the paths and labels:"
   ]
  },
  {
   "cell_type": "code",
   "execution_count": 45,
   "metadata": {},
   "outputs": [],
   "source": [
    "class_names = image_df['plant'].unique()\n",
    "no_classes = len(class_names)"
   ]
  },
  {
   "cell_type": "code",
   "execution_count": 46,
   "metadata": {},
   "outputs": [],
   "source": [
    "# paths\n",
    "train_path = image_df_train['path'].copy().values\n",
    "val_path = image_df_val['path'].copy().values\n",
    "test_path = image_df_test['path'].copy().values\n",
    "\n",
    "# labels\n",
    "train_labels = np.zeros(len(image_df_train), dtype=np.int8)\n",
    "val_labels = np.zeros(len(image_df_val), dtype=np.int8)\n",
    "test_labels = np.zeros(len(image_df_test), dtype=np.int8)\n",
    "\n",
    "for i in range(len(class_names)):\n",
    "    train_labels[image_df_train['plant'].values==class_names[i]] = i\n",
    "    val_labels[image_df_val['plant'].values==class_names[i]] = i\n",
    "    test_labels[image_df_test['plant'].values==class_names[i]] = i"
   ]
  },
  {
   "cell_type": "markdown",
   "metadata": {},
   "source": [
    "Merge into a Dataset:"
   ]
  },
  {
   "cell_type": "code",
   "execution_count": 47,
   "metadata": {},
   "outputs": [
    {
     "name": "stdout",
     "output_type": "stream",
     "text": [
      "path  :  ../data/data/train/Aloe_Vera/Aloe_Vera_191.jpeg\n",
      "label :  0\n",
      "path  :  ../data/data/train/Aloe_Vera/Aloe_Vera_4.jpeg\n",
      "label :  0\n",
      "path  :  ../data/data/train/Aloe_Vera/Aloe_Vera_129.jpeg\n",
      "label :  0\n",
      "path  :  ../data/data/train/Aloe_Vera/Aloe_Vera_200.jpeg\n",
      "label :  0\n",
      "path  :  ../data/data/train/Aloe_Vera/Aloe_Vera_10.jpeg\n",
      "label :  0\n"
     ]
    }
   ],
   "source": [
    "train_ds = tf.data.Dataset.from_tensor_slices((train_path, train_labels))\n",
    "val_ds = tf.data.Dataset.from_tensor_slices((val_path, val_labels))\n",
    "test_ds = tf.data.Dataset.from_tensor_slices((test_path, test_labels))\n",
    "\n",
    "# note that the `numpy()` function is required to grab the actual values from the Dataset\n",
    "for path, label in train_ds.take(5):\n",
    "    print(\"path  : \", path.numpy().decode('utf-8'))\n",
    "    print(\"label : \", label.numpy())"
   ]
  },
  {
   "cell_type": "markdown",
   "metadata": {},
   "source": [
    "Define functions to get the actual images from the paths and do simple transformations. Then map these onto the Dataset:\n",
    "\n",
    "Note that this is where the most issues were experienced. The code here, which seems simple enough, will fail with an opaque error message even if the slightest thing is done incorrectly. Take note of the comments carefully..."
   ]
  },
  {
   "cell_type": "code",
   "execution_count": 48,
   "metadata": {
    "code_folding": []
   },
   "outputs": [],
   "source": [
    "# this function wraps `cv2.imread` - we treat it as a 'standalone' function, and therefore can use\n",
    "# eager execution (i.e. the use of `numpy()`) to get a string of the path.\n",
    "# note that no tensorflow functions are used here\n",
    "def cv2_imread(path, label):\n",
    "    # read in the image, getting the string of the path via eager execution\n",
    "    img = cv2.imread(path.numpy().decode('utf-8'), cv2.IMREAD_UNCHANGED)\n",
    "    # change from BGR to RGB\n",
    "    img = cv2.cvtColor(img, cv2.COLOR_BGR2RGB)\n",
    "    return img, label\n",
    "\n",
    "# this function assumes that the image has been read in, and does some transformations on it\n",
    "# note that only tensorflow functions are used here\n",
    "def tf_cleanup(img, label):\n",
    "    # convert to Tensor\n",
    "    img = tf.convert_to_tensor(img)\n",
    "    # unclear why, but the jpeg is read in as uint16 - convert to uint8\n",
    "    img = tf.dtypes.cast(img, tf.uint8)\n",
    "    # set the shape of the Tensor\n",
    "    img.set_shape((128, 128, 3))\n",
    "    # convert to float32, scaling from uint8 (0-255) to float32 (0-1)\n",
    "    img = tf.image.convert_image_dtype(img, tf.float32)\n",
    "    # resize the image\n",
    "    img = tf.image.resize(img, [128, 128])\n",
    "    # convert the labels into a Tensor and set the shape\n",
    "    label = tf.convert_to_tensor(label)\n",
    "    label.set_shape(())\n",
    "    return img, label\n",
    "\n",
    "AUTOTUNE = tf.data.experimental.AUTOTUNE\n",
    "\n",
    "# map the cv2 wrapper function using `tf.py_function`\n",
    "train_ds = train_ds.map(lambda path, label: tuple(tf.py_function(cv2_imread, [path, label], [tf.uint16, label.dtype])),\n",
    "                        num_parallel_calls=AUTOTUNE)\n",
    "val_ds = val_ds.map(lambda path, label: tuple(tf.py_function(cv2_imread, [path, label], [tf.uint16, label.dtype])),\n",
    "                    num_parallel_calls=AUTOTUNE)\n",
    "test_ds = test_ds.map(lambda path, label: tuple(tf.py_function(cv2_imread, [path, label], [tf.uint16, label.dtype])),\n",
    "                      num_parallel_calls=AUTOTUNE)\n",
    "\n",
    "# map the TensorFlow transformation function - no need to wrap\n",
    "train_ds = train_ds.map(tf_cleanup, num_parallel_calls=AUTOTUNE)\n",
    "val_ds = val_ds.map(tf_cleanup, num_parallel_calls=AUTOTUNE)\n",
    "test_ds = test_ds.map(tf_cleanup, num_parallel_calls=AUTOTUNE)"
   ]
  },
  {
   "cell_type": "markdown",
   "metadata": {},
   "source": [
    "Image augmentation:\n",
    "\n",
    "Augment the training and validation data by applying random flips and rotations."
   ]
  },
  {
   "cell_type": "code",
   "execution_count": 49,
   "metadata": {
    "code_folding": [
     0,
     5
    ]
   },
   "outputs": [],
   "source": [
    "def rotate_augmentation(img, label):\n",
    "    # rotate 0, 90, 180, or 270 degrees with 25% probability for each\n",
    "    img = tf.image.rot90(img, tf.random.uniform(shape=[], minval=0, maxval=4, dtype=tf.int32, seed=1111))\n",
    "    return img, label\n",
    "\n",
    "def flip_augmentation(img, label):\n",
    "    # flip with 50% probability for left-right and up-down\n",
    "    img = tf.image.random_flip_left_right(img, seed=2222)\n",
    "    img = tf.image.random_flip_up_down(img, seed=3333)\n",
    "    return img, label\n",
    "\n",
    "# map the augmentations, creating a new Dataset\n",
    "augmented_train_ds = train_ds.map(rotate_augmentation, num_parallel_calls=AUTOTUNE)\n",
    "augmented_train_ds = augmented_train_ds.map(flip_augmentation, num_parallel_calls=AUTOTUNE)\n",
    "\n",
    "augmented_val_ds = val_ds.map(rotate_augmentation, num_parallel_calls=AUTOTUNE)\n",
    "augmented_val_ds = augmented_val_ds.map(flip_augmentation, num_parallel_calls=AUTOTUNE)\n",
    "\n",
    "# concatenate the augmented and original datasets\n",
    "train_ds = train_ds.concatenate(augmented_train_ds)\n",
    "val_ds = val_ds.concatenate(augmented_val_ds)"
   ]
  },
  {
   "cell_type": "markdown",
   "metadata": {},
   "source": [
    "Shuffle:\n",
    "\n",
    "Note that the buffer size for shuffling defines how random the Dataset becomes - a buffer size that's equal to the number of instances will result in a uniform shuffling over the entire Dataset, and a buffer size equal to 1 will result in no shuffling. Since the data is currently ordered by label, we need make sure we do a nice full shuffle over the entire dataset:"
   ]
  },
  {
   "cell_type": "code",
   "execution_count": 50,
   "metadata": {},
   "outputs": [],
   "source": [
    "# double the number of samples in the training and validation splits, due to our augmentation procedure\n",
    "n_train = len(train_labels)*2\n",
    "n_val = len(val_labels)*2\n",
    "n_test = len(test_labels)\n",
    "\n",
    "# shuffle over the entire dataset, seeding the shuffling for reproducible results\n",
    "train_ds = train_ds.shuffle(n_train, seed=2019, reshuffle_each_iteration=True)\n",
    "val_ds = val_ds.shuffle(n_val, seed=2019, reshuffle_each_iteration=True)\n",
    "test_ds = test_ds.shuffle(n_test, seed=2019, reshuffle_each_iteration=True)"
   ]
  },
  {
   "cell_type": "markdown",
   "metadata": {},
   "source": [
    "Check to make sure everything was read in correctly:"
   ]
  },
  {
   "cell_type": "code",
   "execution_count": 51,
   "metadata": {},
   "outputs": [
    {
     "name": "stdout",
     "output_type": "stream",
     "text": [
      "476\n"
     ]
    }
   ],
   "source": [
    "n_train_check = 0\n",
    "for element in train_ds:\n",
    "    n_train_check = n_train_check + 1\n",
    "print(n_train_check)"
   ]
  },
  {
   "cell_type": "markdown",
   "metadata": {},
   "source": [
    "Batch the data. A batch size of 32 seems like a common starting point, and using powers of 2 is preferred when using a GPU."
   ]
  },
  {
   "cell_type": "code",
   "execution_count": 52,
   "metadata": {},
   "outputs": [],
   "source": [
    "BATCH_SIZE = 4\n",
    "\n",
    "train_batches_ds = train_ds.batch(BATCH_SIZE)\n",
    "val_batches_ds = val_ds.batch(BATCH_SIZE)\n",
    "test_batches_ds = test_ds.batch(BATCH_SIZE)"
   ]
  },
  {
   "cell_type": "markdown",
   "metadata": {},
   "source": [
    "# The Model\n",
    "\n",
    "Let's use VGG16 for the base of the model:"
   ]
  },
  {
   "cell_type": "code",
   "execution_count": 53,
   "metadata": {},
   "outputs": [],
   "source": [
    "IMG_SHAPE = (128, 128, 3)\n",
    "\n",
    "# create the base model from the pre-trained model VGG16\n",
    "# note that, if using a Kaggle server, internet has to be turned on\n",
    "pretrained_model = tf.keras.applications.vgg16.VGG16(input_shape=IMG_SHAPE,\n",
    "                                                     include_top=False,\n",
    "                                                     weights='imagenet')\n",
    "\n",
    "# freeze the convolutional base\n",
    "pretrained_model.trainable = False"
   ]
  },
  {
   "cell_type": "markdown",
   "metadata": {},
   "source": [
    "Look at the model architecture:"
   ]
  },
  {
   "cell_type": "code",
   "execution_count": 54,
   "metadata": {},
   "outputs": [
    {
     "name": "stdout",
     "output_type": "stream",
     "text": [
      "Model: \"vgg16\"\n",
      "_________________________________________________________________\n",
      "Layer (type)                 Output Shape              Param #   \n",
      "=================================================================\n",
      "input_2 (InputLayer)         [(None, 128, 128, 3)]     0         \n",
      "_________________________________________________________________\n",
      "block1_conv1 (Conv2D)        (None, 128, 128, 64)      1792      \n",
      "_________________________________________________________________\n",
      "block1_conv2 (Conv2D)        (None, 128, 128, 64)      36928     \n",
      "_________________________________________________________________\n",
      "block1_pool (MaxPooling2D)   (None, 64, 64, 64)        0         \n",
      "_________________________________________________________________\n",
      "block2_conv1 (Conv2D)        (None, 64, 64, 128)       73856     \n",
      "_________________________________________________________________\n",
      "block2_conv2 (Conv2D)        (None, 64, 64, 128)       147584    \n",
      "_________________________________________________________________\n",
      "block2_pool (MaxPooling2D)   (None, 32, 32, 128)       0         \n",
      "_________________________________________________________________\n",
      "block3_conv1 (Conv2D)        (None, 32, 32, 256)       295168    \n",
      "_________________________________________________________________\n",
      "block3_conv2 (Conv2D)        (None, 32, 32, 256)       590080    \n",
      "_________________________________________________________________\n",
      "block3_conv3 (Conv2D)        (None, 32, 32, 256)       590080    \n",
      "_________________________________________________________________\n",
      "block3_pool (MaxPooling2D)   (None, 16, 16, 256)       0         \n",
      "_________________________________________________________________\n",
      "block4_conv1 (Conv2D)        (None, 16, 16, 512)       1180160   \n",
      "_________________________________________________________________\n",
      "block4_conv2 (Conv2D)        (None, 16, 16, 512)       2359808   \n",
      "_________________________________________________________________\n",
      "block4_conv3 (Conv2D)        (None, 16, 16, 512)       2359808   \n",
      "_________________________________________________________________\n",
      "block4_pool (MaxPooling2D)   (None, 8, 8, 512)         0         \n",
      "_________________________________________________________________\n",
      "block5_conv1 (Conv2D)        (None, 8, 8, 512)         2359808   \n",
      "_________________________________________________________________\n",
      "block5_conv2 (Conv2D)        (None, 8, 8, 512)         2359808   \n",
      "_________________________________________________________________\n",
      "block5_conv3 (Conv2D)        (None, 8, 8, 512)         2359808   \n",
      "_________________________________________________________________\n",
      "block5_pool (MaxPooling2D)   (None, 4, 4, 512)         0         \n",
      "=================================================================\n",
      "Total params: 14,714,688\n",
      "Trainable params: 0\n",
      "Non-trainable params: 14,714,688\n",
      "_________________________________________________________________\n"
     ]
    }
   ],
   "source": [
    "pretrained_model.summary()"
   ]
  },
  {
   "cell_type": "markdown",
   "metadata": {},
   "source": [
    "Apply a `tf.keras.layers.Dense` layer to convert these features into a single prediction per image. You don't need an activation function here because this prediction will be treated as a logit, or a raw prediction value. Positive numbers predict class 1, negative numbers predict class 0."
   ]
  },
  {
   "cell_type": "code",
   "execution_count": 55,
   "metadata": {},
   "outputs": [],
   "source": [
    "# set the initializers with a seed for reproducible behaviour\n",
    "prediction_layer = tf.keras.layers.Dense(1,\n",
    "                                         kernel_initializer=tf.keras.initializers.GlorotUniform(seed=1992),\n",
    "                                         bias_initializer=tf.keras.initializers.GlorotUniform(seed=1992))"
   ]
  },
  {
   "cell_type": "markdown",
   "metadata": {},
   "source": [
    "Now stack all the components using a `tf.keras.Sequential` model:"
   ]
  },
  {
   "cell_type": "code",
   "execution_count": 56,
   "metadata": {},
   "outputs": [],
   "source": [
    "model = tf.keras.Sequential([pretrained_model,\n",
    "                             global_average_layer,\n",
    "                             prediction_layer,\n",
    "                             tf.keras.layers.Dense(no_classes, activation='softmax')])"
   ]
  },
  {
   "cell_type": "markdown",
   "metadata": {},
   "source": [
    "Compile the model. Since there are two classes, use a binary cross-entropy loss:"
   ]
  },
  {
   "cell_type": "code",
   "execution_count": 57,
   "metadata": {},
   "outputs": [],
   "source": [
    "base_learning_rate = 0.0001\n",
    "model.compile(optimizer=tf.keras.optimizers.Adam(lr=base_learning_rate),\n",
    "              loss='binary_crossentropy',\n",
    "              metrics=['accuracy'])"
   ]
  },
  {
   "cell_type": "code",
   "execution_count": 58,
   "metadata": {},
   "outputs": [
    {
     "name": "stdout",
     "output_type": "stream",
     "text": [
      "Model: \"sequential_1\"\n",
      "_________________________________________________________________\n",
      "Layer (type)                 Output Shape              Param #   \n",
      "=================================================================\n",
      "vgg16 (Model)                (None, 4, 4, 512)         14714688  \n",
      "_________________________________________________________________\n",
      "global_average_pooling2d (Gl (None, 512)               0         \n",
      "_________________________________________________________________\n",
      "dense_3 (Dense)              (None, 1)                 513       \n",
      "_________________________________________________________________\n",
      "dense_4 (Dense)              (None, 2)                 4         \n",
      "=================================================================\n",
      "Total params: 14,715,205\n",
      "Trainable params: 517\n",
      "Non-trainable params: 14,714,688\n",
      "_________________________________________________________________\n"
     ]
    }
   ],
   "source": [
    "model.summary()"
   ]
  },
  {
   "cell_type": "markdown",
   "metadata": {},
   "source": [
    "Train the model:"
   ]
  },
  {
   "cell_type": "code",
   "execution_count": 59,
   "metadata": {},
   "outputs": [
    {
     "name": "stdout",
     "output_type": "stream",
     "text": [
      "20/20 [==============================] - 10s 523ms/step - loss: 1.2253 - accuracy: 0.5000\n"
     ]
    }
   ],
   "source": [
    "initial_epochs = 20\n",
    "steps_per_epoch = n_train//BATCH_SIZE\n",
    "validation_steps = 20\n",
    "\n",
    "loss0, accuracy0 = model.evaluate(val_batches_ds, steps=validation_steps)"
   ]
  },
  {
   "cell_type": "code",
   "execution_count": null,
   "metadata": {},
   "outputs": [
    {
     "name": "stdout",
     "output_type": "stream",
     "text": [
      "Epoch 1/20\n",
      "119/119 [==============================] - 67s 561ms/step - loss: 0.9756 - accuracy: 0.5000 - val_loss: 0.0000e+00 - val_accuracy: 0.0000e+00\n",
      "Epoch 2/20\n",
      "119/119 [==============================] - 66s 556ms/step - loss: 0.7344 - accuracy: 0.5000 - val_loss: 0.7109 - val_accuracy: 0.5000\n",
      "Epoch 3/20\n",
      "119/119 [==============================] - 65s 542ms/step - loss: 0.7120 - accuracy: 0.5000 - val_loss: 0.7194 - val_accuracy: 0.5000\n",
      "Epoch 4/20\n",
      "119/119 [==============================] - 66s 551ms/step - loss: 0.7094 - accuracy: 0.5000 - val_loss: 0.7086 - val_accuracy: 0.5000\n",
      "Epoch 5/20\n",
      "119/119 [==============================] - 65s 542ms/step - loss: 0.7070 - accuracy: 0.5000 - val_loss: 0.7117 - val_accuracy: 0.5000\n",
      "Epoch 6/20\n",
      "119/119 [==============================] - 63s 527ms/step - loss: 0.7057 - accuracy: 0.5000 - val_loss: 0.7091 - val_accuracy: 0.5000\n",
      "Epoch 7/20\n",
      "119/119 [==============================] - 63s 531ms/step - loss: 0.7052 - accuracy: 0.5000 - val_loss: 0.7094 - val_accuracy: 0.5000\n",
      "Epoch 8/20\n",
      "119/119 [==============================] - 64s 541ms/step - loss: 0.7042 - accuracy: 0.5000 - val_loss: 0.7044 - val_accuracy: 0.5000\n",
      "Epoch 9/20\n",
      "119/119 [==============================] - 65s 546ms/step - loss: 0.7037 - accuracy: 0.5000 - val_loss: 0.7066 - val_accuracy: 0.5000\n",
      "Epoch 10/20\n",
      "119/119 [==============================] - 65s 550ms/step - loss: 0.7023 - accuracy: 0.5000 - val_loss: 0.7053 - val_accuracy: 0.5000\n",
      "Epoch 11/20\n",
      "119/119 [==============================] - 92s 776ms/step - loss: 0.7019 - accuracy: 0.5000 - val_loss: 0.7044 - val_accuracy: 0.5000\n",
      "Epoch 12/20\n",
      " 63/119 [==============>...............] - ETA: 28s - loss: 0.7009 - accuracy: 0.5000"
     ]
    }
   ],
   "source": [
    "history = model.fit(train_batches_ds,\n",
    "                    epochs=initial_epochs,\n",
    "                    validation_data=val_batches_ds,\n",
    "                    validation_steps=validation_steps)"
   ]
  },
  {
   "cell_type": "markdown",
   "metadata": {},
   "source": [
    "Learning curves:"
   ]
  },
  {
   "cell_type": "code",
   "execution_count": null,
   "metadata": {},
   "outputs": [],
   "source": [
    "acc = history.history['accuracy']\n",
    "val_acc = history.history['val_accuracy']\n",
    "\n",
    "loss = history.history['loss']\n",
    "val_loss = history.history['val_loss']\n",
    "\n",
    "fig, ax = plt.subplots(nrows=2, ncols=1, figsize=(10,8), sharex=True)\n",
    "\n",
    "x_plot = np.arange(1, initial_epochs+1)\n",
    "\n",
    "ax[0].plot(x_plot, acc, '+-', label='training')\n",
    "ax[0].plot(x_plot, val_acc, '+-', label='validation')\n",
    "ax[0].legend()\n",
    "ax[0].set_ylabel('accuracy')\n",
    "ax[0].set_ylim(0.5, 1)\n",
    "ax[0].grid(ls='--', c='C7')\n",
    "ax[0].set_title('accuracy')\n",
    "\n",
    "ax[1].plot(x_plot, loss, '+-', label='training')\n",
    "ax[1].plot(x_plot, val_loss, '+-', label='validation')\n",
    "ax[1].legend()\n",
    "ax[1].set_ylabel('cross entropy')\n",
    "ax[1].set_ylim(0, 1)\n",
    "ax[1].grid(ls='--', c='C7')\n",
    "ax[1].set_title('loss')\n",
    "ax[1].set_xlabel('epoch')\n",
    "\n",
    "plt.show()"
   ]
  },
  {
   "cell_type": "markdown",
   "metadata": {},
   "source": [
    "Some notes from the TensorFlow tutorial on transfer learning:\n",
    "\n",
    "> Now fine-tune the weights of the top layers of the pre-trained model alongside the training of the classifier you added. The training process will force the weights to be tuned from generic features maps to features associated specifically to our dataset. This should only be attempted after you have trained the top-level classifier with the pre-trained model set to non-trainable. If you add a randomly initialized classifier on top of a pre-trained model and attempt to train all layers jointly, the magnitude of the gradient updates will be too large (due to the random weights from the classifier) and your pre-trained model will forget what it has learned. Only a small number of top layers of the pre-trained model should be fine-tuned. In most convolutional networks, the higher up a layer is, the more specialized it is. The first few layers learn very simple and generic features which generalize to almost all types of images. As you go higher up, the features are increasingly more specific to the dataset on which the model was trained. The goal of fine-tuning is to adapt these specialized features to work with the new dataset, rather than overwrite the generic learning."
   ]
  },
  {
   "cell_type": "code",
   "execution_count": 31,
   "metadata": {},
   "outputs": [
    {
     "name": "stdout",
     "output_type": "stream",
     "text": [
      "Number of layers in the pre-trained model:  19\n"
     ]
    }
   ],
   "source": [
    "# unfreeze the layers\n",
    "pretrained_model.trainable = True\n",
    "\n",
    "# let's take a look to see how many layers are in the base model\n",
    "print(\"Number of layers in the pre-trained model: \", len(pretrained_model.layers))"
   ]
  },
  {
   "cell_type": "code",
   "execution_count": 32,
   "metadata": {},
   "outputs": [],
   "source": [
    "# fine-tune from this layer onwards\n",
    "fine_tune_at = 15\n",
    "\n",
    "# freeze all the layers before the `fine_tune_at` layer\n",
    "for layer in pretrained_model.layers[:fine_tune_at]:\n",
    "  layer.trainable =  False"
   ]
  },
  {
   "cell_type": "markdown",
   "metadata": {},
   "source": [
    "Recompile the model using a lower training rate:"
   ]
  },
  {
   "cell_type": "code",
   "execution_count": 33,
   "metadata": {},
   "outputs": [
    {
     "name": "stdout",
     "output_type": "stream",
     "text": [
      "Model: \"sequential\"\n",
      "_________________________________________________________________\n",
      "Layer (type)                 Output Shape              Param #   \n",
      "=================================================================\n",
      "vgg16 (Functional)           (None, 4, 4, 512)         14714688  \n",
      "_________________________________________________________________\n",
      "global_average_pooling2d (Gl (None, 512)               0         \n",
      "_________________________________________________________________\n",
      "dense (Dense)                (None, 1)                 513       \n",
      "=================================================================\n",
      "Total params: 14,715,201\n",
      "Trainable params: 7,079,937\n",
      "Non-trainable params: 7,635,264\n",
      "_________________________________________________________________\n"
     ]
    }
   ],
   "source": [
    "model.compile(optimizer=tf.keras.optimizers.Adam(lr=base_learning_rate/10),\n",
    "              loss='binary_crossentropy',\n",
    "              metrics=['accuracy'])\n",
    "model.summary()"
   ]
  },
  {
   "cell_type": "code",
   "execution_count": 34,
   "metadata": {},
   "outputs": [
    {
     "data": {
      "text/plain": [
       "8"
      ]
     },
     "execution_count": 34,
     "metadata": {},
     "output_type": "execute_result"
    }
   ],
   "source": [
    "len(model.trainable_variables)"
   ]
  },
  {
   "cell_type": "markdown",
   "metadata": {},
   "source": [
    "Continue training:"
   ]
  },
  {
   "cell_type": "code",
   "execution_count": 35,
   "metadata": {},
   "outputs": [
    {
     "name": "stdout",
     "output_type": "stream",
     "text": [
      "Epoch 16/40\n",
      "119/119 [==============================] - 158s 1s/step - loss: 0.1956 - accuracy: 0.9223 - val_loss: 0.2724 - val_accuracy: 0.9625\n",
      "Epoch 17/40\n",
      "119/119 [==============================] - 237s 2s/step - loss: 0.0435 - accuracy: 0.9853 - val_loss: 0.0405 - val_accuracy: 0.9750\n",
      "Epoch 18/40\n",
      "119/119 [==============================] - 157s 1s/step - loss: 0.0290 - accuracy: 0.9937 - val_loss: 0.2212 - val_accuracy: 0.9750\n",
      "Epoch 19/40\n",
      "119/119 [==============================] - 144s 1s/step - loss: 0.0149 - accuracy: 0.9916 - val_loss: 0.0097 - val_accuracy: 1.0000\n",
      "Epoch 20/40\n",
      "119/119 [==============================] - 250s 2s/step - loss: 0.0052 - accuracy: 0.9979 - val_loss: 0.2231 - val_accuracy: 0.9875\n",
      "Epoch 21/40\n",
      "119/119 [==============================] - 177s 1s/step - loss: 0.0065 - accuracy: 0.9958 - val_loss: 0.2223 - val_accuracy: 0.9750\n",
      "Epoch 22/40\n",
      "119/119 [==============================] - 181s 2s/step - loss: 0.0093 - accuracy: 0.9979 - val_loss: 0.3073 - val_accuracy: 0.9375\n",
      "Epoch 23/40\n",
      "119/119 [==============================] - 137s 1s/step - loss: 0.0686 - accuracy: 0.9937 - val_loss: 0.2017 - val_accuracy: 0.9875\n",
      "Epoch 24/40\n",
      "119/119 [==============================] - 141s 1s/step - loss: 0.0658 - accuracy: 0.9958 - val_loss: 0.0084 - val_accuracy: 1.0000\n",
      "Epoch 25/40\n",
      "119/119 [==============================] - 153s 1s/step - loss: 0.0750 - accuracy: 0.9937 - val_loss: 0.0762 - val_accuracy: 0.9875\n",
      "Epoch 26/40\n",
      "119/119 [==============================] - 156s 1s/step - loss: 0.0654 - accuracy: 0.9958 - val_loss: 0.0518 - val_accuracy: 0.9750\n",
      "Epoch 27/40\n",
      "119/119 [==============================] - 160s 1s/step - loss: 0.0324 - accuracy: 0.9979 - val_loss: 0.2539 - val_accuracy: 0.9625\n",
      "Epoch 28/40\n",
      "119/119 [==============================] - 146s 1s/step - loss: 0.0648 - accuracy: 0.9958 - val_loss: 0.0832 - val_accuracy: 0.9625\n",
      "Epoch 29/40\n",
      "119/119 [==============================] - 147s 1s/step - loss: 0.0324 - accuracy: 0.9979 - val_loss: 0.0269 - val_accuracy: 0.9875\n",
      "Epoch 30/40\n",
      "119/119 [==============================] - 184s 2s/step - loss: 0.0324 - accuracy: 0.9979 - val_loss: 0.0374 - val_accuracy: 0.9750\n",
      "Epoch 31/40\n",
      "119/119 [==============================] - 182s 2s/step - loss: 0.0324 - accuracy: 0.9979 - val_loss: 0.0796 - val_accuracy: 0.9750\n",
      "Epoch 32/40\n",
      "119/119 [==============================] - 229s 2s/step - loss: 0.0690 - accuracy: 0.9958 - val_loss: 0.0215 - val_accuracy: 0.9875\n",
      "Epoch 33/40\n",
      "119/119 [==============================] - 284s 2s/step - loss: 0.0328 - accuracy: 0.9979 - val_loss: 0.0405 - val_accuracy: 0.9750\n",
      "Epoch 34/40\n",
      "119/119 [==============================] - 194s 2s/step - loss: 0.0679 - accuracy: 0.9958 - val_loss: 0.2142 - val_accuracy: 0.9750\n",
      "Epoch 35/40\n",
      "119/119 [==============================] - 169s 1s/step - loss: 0.0655 - accuracy: 0.9958 - val_loss: 0.2112 - val_accuracy: 0.9750\n",
      "Epoch 36/40\n",
      "119/119 [==============================] - 172s 1s/step - loss: 0.0324 - accuracy: 0.9979 - val_loss: 0.0370 - val_accuracy: 0.9750\n",
      "Epoch 37/40\n",
      "119/119 [==============================] - 152s 1s/step - loss: 0.0650 - accuracy: 0.9958 - val_loss: 0.0203 - val_accuracy: 0.9875\n",
      "Epoch 38/40\n",
      "119/119 [==============================] - 154s 1s/step - loss: 0.0329 - accuracy: 0.9979 - val_loss: 0.2238 - val_accuracy: 0.9750\n",
      "Epoch 39/40\n",
      "119/119 [==============================] - 150s 1s/step - loss: 0.0661 - accuracy: 0.9958 - val_loss: 0.0283 - val_accuracy: 0.9750\n",
      "Epoch 40/40\n",
      "119/119 [==============================] - 150s 1s/step - loss: 0.0648 - accuracy: 0.9958 - val_loss: 0.0454 - val_accuracy: 0.9750\n"
     ]
    }
   ],
   "source": [
    "fine_tune_epochs = 25\n",
    "total_epochs =  initial_epochs + fine_tune_epochs\n",
    "\n",
    "history_fine = model.fit(train_batches_ds,\n",
    "                         epochs=total_epochs,\n",
    "                         initial_epoch=history.epoch[-1]+1,\n",
    "                         validation_data=val_batches_ds,\n",
    "                         validation_steps=validation_steps)"
   ]
  },
  {
   "cell_type": "markdown",
   "metadata": {},
   "source": [
    "Updated training curves:"
   ]
  },
  {
   "cell_type": "code",
   "execution_count": 77,
   "metadata": {},
   "outputs": [
    {
     "data": {
      "image/png": "[encoded data removed]",
      "text/plain": [
       "<Figure size 720x576 with 2 Axes>"
      ]
     },
     "metadata": {
      "needs_background": "light"
     },
     "output_type": "display_data"
    }
   ],
   "source": [
    "acc += history_fine.history['accuracy']\n",
    "val_acc += history_fine.history['val_accuracy']\n",
    "\n",
    "loss += history_fine.history['loss']\n",
    "val_loss += history_fine.history['val_loss']\n",
    "\n",
    "fig, ax = plt.subplots(nrows=2, ncols=1, figsize=(10,8), sharex=True)\n",
    "\n",
    "x_plot = np.arange(1, total_epochs+1)\n",
    "\n",
    "ax[0].plot(x_plot, acc, '+-', label='training')\n",
    "ax[0].plot(x_plot, val_acc, '+-', label='validation')\n",
    "ax[0].legend()\n",
    "ax[0].set_ylabel('accuracy')\n",
    "ax[0].set_ylim(0.5, 1)\n",
    "ax[0].grid(ls='--', c='C7')\n",
    "ax[0].set_title('accuracy')\n",
    "ax[0].axvline(initial_epochs, c='C7', ls='--')\n",
    "\n",
    "ax[1].plot(x_plot, loss, '+-', label='training')\n",
    "ax[1].plot(x_plot, val_loss, '+-', label='validation')\n",
    "ax[1].legend()\n",
    "ax[1].set_ylabel('cross entropy')\n",
    "ax[1].set_ylim(0, 1)\n",
    "ax[1].grid(ls='--', c='C7')\n",
    "ax[1].set_title('loss')\n",
    "ax[1].set_xlabel('epoch')\n",
    "ax[1].axvline(initial_epochs, c='C7', ls='--')\n",
    "\n",
    "plt.show()"
   ]
  },
  {
   "cell_type": "markdown",
   "metadata": {},
   "source": [
    "Now we can make a prediction on the full validation and test sets:"
   ]
  },
  {
   "cell_type": "code",
   "execution_count": null,
   "metadata": {},
   "outputs": [],
   "source": [
    "val_loss, val_accuracy = model.evaluate(val_batches_ds)"
   ]
  },
  {
   "cell_type": "code",
   "execution_count": null,
   "metadata": {},
   "outputs": [],
   "source": [
    "test_loss, test_accuracy = model.evaluate(test_batches_ds)"
   ]
  },
  {
   "cell_type": "markdown",
   "metadata": {},
   "source": [
    "Note that in the study associated with this dataset, the best performance achieved was:\n",
    "\n",
    "* convolutional neural network + data augmentation + 50% dropout in the fully connected layer + Adam optimizer:\n",
    "    * validation accuracy: 98.06%\n",
    "    * test accuracy (balanced): 97.29%"
   ]
  },
  {
   "cell_type": "code",
   "execution_count": 36,
   "metadata": {},
   "outputs": [],
   "source": [
    "model.save('./TF_models/binary_mod_1.0.hdf5')"
   ]
  },
  {
   "cell_type": "markdown",
   "metadata": {},
   "source": [
    "# Put model to work"
   ]
  },
  {
   "cell_type": "code",
   "execution_count": null,
   "metadata": {},
   "outputs": [],
   "source": [
    "file = './2_examples/Aloe_Vera/Aloe_Vera_1.jpeg'\n",
    "image_df = pd.DataFrame({'path': list(file)})\n",
    "\n",
    "image_df['plant'] = image_df['path'].map(lambda x: x.parent.stem)\n",
    "image_df['data_split'] = image_df['path'].map(lambda x: x.parent.parent.stem)\n",
    "image_df['path'] = image_df['path'].map(lambda x: str(x)) # convert the path back to a string\n",
    "\n",
    "image_df.head()"
   ]
  },
  {
   "cell_type": "code",
   "execution_count": 49,
   "metadata": {},
   "outputs": [
    {
     "data": {
      "text/plain": [
       "<BatchDataset shapes: ((None, 128, 128, 3), (None,)), types: (tf.float32, tf.int32)>"
      ]
     },
     "execution_count": 49,
     "metadata": {},
     "output_type": "execute_result"
    }
   ],
   "source": [
    "input_batches_ds"
   ]
  },
  {
   "cell_type": "code",
   "execution_count": 55,
   "metadata": {},
   "outputs": [
    {
     "name": "stdout",
     "output_type": "stream",
     "text": [
      "image shape :  (128, 128, 3)\n",
      "label       :  1\n"
     ]
    },
    {
     "data": {
      "text/plain": [
       "array([-1.3296574], dtype=float32)"
      ]
     },
     "execution_count": 55,
     "metadata": {},
     "output_type": "execute_result"
    }
   ],
   "source": [
    "def predict_plant:\n",
    "    input_ds = tf.data.Dataset.from_tensor_slices(([file], [1]))\n",
    "\n",
    "    # map the cv2 wrapper function using `tf.py_function`\n",
    "    input_ds = input_ds.map(lambda path, label: tuple(tf.py_function(cv2_imread, [path, label], [tf.uint16, label.dtype])),\n",
    "                          num_parallel_calls=AUTOTUNE)\n",
    "\n",
    "    # map the TensorFlow transformation function - no need to wrap\n",
    "    input_ds = input_ds.map(tf_cleanup, num_parallel_calls=AUTOTUNE)\n",
    "\n",
    "    # check that the image was read in correctly\n",
    "    for image, label in input_ds.take(1):\n",
    "        print(\"image shape : \", image.numpy().shape)\n",
    "        print(\"label       : \", label.numpy())\n",
    "\n",
    "    input_batches_ds = input_ds.batch(1)\n",
    "\n",
    "    result = model.predict(input_batches_ds)\n",
    "\n",
    "    if result[0][0] < 0.5:\n",
    "        return 'Fiddle Leaf Fig'\n",
    "    else:\n",
    "        return 'Aloe Vera'"
   ]
  },
  {
   "cell_type": "code",
   "execution_count": 65,
   "metadata": {},
   "outputs": [],
   "source": [
    "model.save_weights('./models/binary_prelimmod_1.0_weights.h5')\n",
    "model.save('./models/binary_prelimmod_1.0.h5')"
   ]
  }
 ],
 "metadata": {
  "kernelspec": {
   "display_name": "Python [conda env:PlantPal]",
   "language": "python",
   "name": "conda-env-PlantPal-py"
  },
  "language_info": {
   "codemirror_mode": {
    "name": "ipython",
    "version": 3
   },
   "file_extension": ".py",
   "mimetype": "text/x-python",
   "name": "python",
   "nbconvert_exporter": "python",
   "pygments_lexer": "ipython3",
   "version": "3.7.9"
  },
  "toc": {
   "base_numbering": 1,
   "nav_menu": {
    "height": "120px",
    "width": "252px"
   },
   "number_sections": true,
   "sideBar": true,
   "skip_h1_title": false,
   "title_cell": "Table of Contents",
   "title_sidebar": "Contents",
   "toc_cell": false,
   "toc_position": {},
   "toc_section_display": "block",
   "toc_window_display": false
  }
 },
 "nbformat": 4,
 "nbformat_minor": 1
}
