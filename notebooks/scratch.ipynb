{
 "cells": [
  {
   "cell_type": "code",
   "execution_count": 11,
   "metadata": {},
   "outputs": [],
   "source": [
    "import pandas as pd\n",
    "plants_df = pd.read_csv('../data/House_Plants.csv', skiprows=2,\n",
    "                        names=['name','type','latin_name',\n",
    "                               'name_1','name_2','name_3',\n",
    "                               'water_lmh','water_desc',\n",
    "                               'light', 'issues', 'fert',\n",
    "                               'cat_tox', 'cat_tox_desc',\n",
    "                               'dog_tox', 'dog_tox_desc',\n",
    "                               'fun_fact'])"
   ]
  },
  {
   "cell_type": "code",
   "execution_count": 18,
   "metadata": {},
   "outputs": [
    {
     "data": {
      "text/plain": [
       "'Aloe Vera'"
      ]
     },
     "execution_count": 18,
     "metadata": {},
     "output_type": "execute_result"
    }
   ],
   "source": [
    "plants_df.name[0]"
   ]
  },
  {
   "cell_type": "code",
   "execution_count": 14,
   "metadata": {},
   "outputs": [],
   "source": [
    "plant_df = plants_df[plants_df['name'] == 'Aloe Vera']"
   ]
  },
  {
   "cell_type": "code",
   "execution_count": 20,
   "metadata": {},
   "outputs": [
    {
     "data": {
      "text/html": [
       "<div>\n",
       "<style scoped>\n",
       "    .dataframe tbody tr th:only-of-type {\n",
       "        vertical-align: middle;\n",
       "    }\n",
       "\n",
       "    .dataframe tbody tr th {\n",
       "        vertical-align: top;\n",
       "    }\n",
       "\n",
       "    .dataframe thead th {\n",
       "        text-align: right;\n",
       "    }\n",
       "</style>\n",
       "<table border=\"1\" class=\"dataframe\">\n",
       "  <thead>\n",
       "    <tr style=\"text-align: right;\">\n",
       "      <th></th>\n",
       "      <th>name</th>\n",
       "      <th>type</th>\n",
       "      <th>latin_name</th>\n",
       "      <th>name_1</th>\n",
       "      <th>name_2</th>\n",
       "      <th>name_3</th>\n",
       "      <th>water_lmh</th>\n",
       "      <th>water_desc</th>\n",
       "      <th>light</th>\n",
       "      <th>issues</th>\n",
       "      <th>fert</th>\n",
       "      <th>cat_tox</th>\n",
       "      <th>cat_tox_desc</th>\n",
       "      <th>dog_tox</th>\n",
       "      <th>dog_tox_desc</th>\n",
       "      <th>fun_fact</th>\n",
       "    </tr>\n",
       "  </thead>\n",
       "  <tbody>\n",
       "    <tr>\n",
       "      <th>0</th>\n",
       "      <td>Aloe Vera</td>\n",
       "      <td>Cactus / Succulent</td>\n",
       "      <td>Aloe barbadensis miller</td>\n",
       "      <td>NaN</td>\n",
       "      <td>NaN</td>\n",
       "      <td>NaN</td>\n",
       "      <td>Low</td>\n",
       "      <td>Water deeply once every 7 days.</td>\n",
       "      <td>Bright and indirect</td>\n",
       "      <td>NaN</td>\n",
       "      <td>NaN</td>\n",
       "      <td>Mild</td>\n",
       "      <td>Vomiting, diarrhoea, lethargy, depression, ano...</td>\n",
       "      <td>Mild</td>\n",
       "      <td>Vomiting, diarrhoea, lethargy, depression, ano...</td>\n",
       "      <td>NaN</td>\n",
       "    </tr>\n",
       "  </tbody>\n",
       "</table>\n",
       "</div>"
      ],
      "text/plain": [
       "        name                type               latin_name name_1 name_2  \\\n",
       "0  Aloe Vera  Cactus / Succulent  Aloe barbadensis miller    NaN    NaN   \n",
       "\n",
       "  name_3 water_lmh                       water_desc                light  \\\n",
       "0    NaN       Low  Water deeply once every 7 days.  Bright and indirect   \n",
       "\n",
       "  issues  fert cat_tox                                       cat_tox_desc  \\\n",
       "0    NaN   NaN    Mild  Vomiting, diarrhoea, lethargy, depression, ano...   \n",
       "\n",
       "  dog_tox                                       dog_tox_desc fun_fact  \n",
       "0   Mild   Vomiting, diarrhoea, lethargy, depression, ano...      NaN  "
      ]
     },
     "execution_count": 20,
     "metadata": {},
     "output_type": "execute_result"
    }
   ],
   "source": [
    "plants_df[plants_df['name'] == 'Aloe Vera']"
   ]
  },
  {
   "cell_type": "code",
   "execution_count": null,
   "metadata": {},
   "outputs": [],
   "source": []
  }
 ],
 "metadata": {
  "kernelspec": {
   "display_name": "Python [conda env:dspy3]",
   "language": "python",
   "name": "conda-env-dspy3-py"
  },
  "language_info": {
   "codemirror_mode": {
    "name": "ipython",
    "version": 3
   },
   "file_extension": ".py",
   "mimetype": "text/x-python",
   "name": "python",
   "nbconvert_exporter": "python",
   "pygments_lexer": "ipython3",
   "version": "3.8.5"
  }
 },
 "nbformat": 4,
 "nbformat_minor": 4
}
