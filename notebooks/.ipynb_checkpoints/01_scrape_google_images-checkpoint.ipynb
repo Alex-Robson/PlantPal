{
 "cells": [
  {
   "cell_type": "markdown",
   "metadata": {},
   "source": [
    "# Scraping Google Images\n",
    "\n",
    "simple_image_download, imported here as \"simp\" will scrape the first N (no_images) images displayed for a search term.  \n",
    "Here the search term is looped over from a list of house plants in a .csv"
   ]
  },
  {
   "cell_type": "code",
   "execution_count": 1,
   "metadata": {},
   "outputs": [],
   "source": [
    "from simple_image_download import simple_image_download as simp\n",
    "import pandas as pd\n",
    "import os"
   ]
  },
  {
   "cell_type": "code",
   "execution_count": 2,
   "metadata": {},
   "outputs": [],
   "source": [
    "plants_df = pd.read_csv('../data/house_plants.csv', names=['name','type'], skiprows=1,) # load plants list\n",
    "no_images = 2000 # number of images to download for each search\n",
    "\n",
    "response = simp.simple_image_download # initialize downloader"
   ]
  },
  {
   "cell_type": "code",
   "execution_count": null,
   "metadata": {},
   "outputs": [],
   "source": [
    "# download houseplants\n",
    "for plant in plants_df.name.values:\n",
    "    response().download(f'{plant} houseplant', no_images)"
   ]
  },
  {
   "cell_type": "code",
   "execution_count": null,
   "metadata": {},
   "outputs": [],
   "source": [
    "os.makedirs('../google_images/', exist_ok=True) # create google images directory (this will overwrite)\n",
    "\n",
    "# rename to remove spaces\n",
    "for plant in plants_df.name.values:    \n",
    "    os.system(f'mv -r ../simple_images/{plant}_plant/ ../google_images/{plant}')"
   ]
  }
 ],
 "metadata": {
  "kernelspec": {
   "display_name": "Python [conda env:dspy3]",
   "language": "python",
   "name": "conda-env-dspy3-py"
  },
  "language_info": {
   "codemirror_mode": {
    "name": "ipython",
    "version": 3
   },
   "file_extension": ".py",
   "mimetype": "text/x-python",
   "name": "python",
   "nbconvert_exporter": "python",
   "pygments_lexer": "ipython3",
   "version": "3.8.5"
  },
  "toc": {
   "base_numbering": 1,
   "nav_menu": {
    "height": "12px",
    "width": "252px"
   },
   "number_sections": true,
   "sideBar": true,
   "skip_h1_title": false,
   "title_cell": "Table of Contents",
   "title_sidebar": "Contents",
   "toc_cell": false,
   "toc_position": {},
   "toc_section_display": "block",
   "toc_window_display": false
  }
 },
 "nbformat": 4,
 "nbformat_minor": 2
}
