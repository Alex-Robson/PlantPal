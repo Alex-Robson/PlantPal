{
 "cells": [
  {
   "cell_type": "markdown",
   "metadata": {},
   "source": [
    "# Scraping Shutterstock"
   ]
  },
  {
   "cell_type": "markdown",
   "metadata": {},
   "source": [
    "I use this script [shutterscrape.py](https://github.com/chuanenlin/shutterscrape) simply looping through the classes defined in 01_scrape_google_images from ../data/house_plants.csv\n",
    "\n",
    "You will need chromedriver - which can be found [here](https://sites.google.com/a/chromium.org/chromedriver/downloads) "
   ]
  },
  {
   "cell_type": "code",
   "execution_count": 2,
   "metadata": {},
   "outputs": [],
   "source": [
    "import os"
   ]
  },
  {
   "cell_type": "code",
   "execution_count": 3,
   "metadata": {},
   "outputs": [],
   "source": [
    "os.makedirs('../shutterstock/', exist_ok=True) # create shutterstock images directory (this will overwrite)"
   ]
  }
 ],
 "metadata": {
  "kernelspec": {
   "display_name": "Python [conda env:dspy3]",
   "language": "python",
   "name": "conda-env-dspy3-py"
  },
  "language_info": {
   "codemirror_mode": {
    "name": "ipython",
    "version": 3
   },
   "file_extension": ".py",
   "mimetype": "text/x-python",
   "name": "python",
   "nbconvert_exporter": "python",
   "pygments_lexer": "ipython3",
   "version": "3.8.5"
  }
 },
 "nbformat": 4,
 "nbformat_minor": 4
}
